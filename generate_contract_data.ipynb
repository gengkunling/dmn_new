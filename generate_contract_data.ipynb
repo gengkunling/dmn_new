{
 "cells": [
  {
   "cell_type": "code",
   "execution_count": 2,
   "metadata": {
    "collapsed": true
   },
   "outputs": [],
   "source": [
    "import pandas as pd\n",
    "import os\n",
    "import spacy\n",
    "# Install: pip install spacy && python -m spacy download en\n",
    "#import spacy\n",
    "\n",
    "# Load English tokenizer, tagger, parser, NER and word vectors\n",
    "nlp = spacy.load('en')\n",
    "\n",
    "\n",
    "\n",
    "#print os.getcwd()\n",
    "f_company = \"data/contract_data/fortune1000.xls\"\n",
    "parsed = pd.read_excel(f_company, skiprows=5, dtype = str)"
   ]
  },
  {
   "cell_type": "code",
   "execution_count": 3,
   "metadata": {
    "collapsed": true
   },
   "outputs": [],
   "source": [
    "#print parsed['Company']\n",
    "company_names = parsed['Company']\n",
    "company_streets = parsed['Address']\n",
    "company_cities = parsed['City']\n",
    "company_states = parsed['State']\n",
    "company_zips = parsed['Zipcode']"
   ]
  },
  {
   "cell_type": "code",
   "execution_count": 4,
   "metadata": {
    "collapsed": true
   },
   "outputs": [],
   "source": [
    "N_company = len(company_names)"
   ]
  },
  {
   "cell_type": "code",
   "execution_count": 5,
   "metadata": {},
   "outputs": [
    {
     "name": "stdout",
     "output_type": "stream",
     "text": [
      "996\n"
     ]
    }
   ],
   "source": [
    "print N_company"
   ]
  },
  {
   "cell_type": "code",
   "execution_count": 110,
   "metadata": {
    "collapsed": true
   },
   "outputs": [],
   "source": [
    "\n",
    "\n",
    "contract1 =  \"THIS MASTER SERVICE AGREEMENT ( Agreement ) is made and entered into EFFECTIVE_DATE \\\n",
    "( Effective Date ) between CONTRACTOR_NAME ( Contractor ), CONTRACTOR_ADDR, and CONTRACTEE_NAME ( Operator ).  \\\n",
    "Contractor and Operator are also referred to as  party  and collectively as the  parties .  \\\n",
    "Subject to and in consideration of the mutual promises, conditions, and agreements contained herein, \\\n",
    "the receipt and sufficiency of which are hereby acknowledged, the parties agree as follows: \\\n",
    "Kunling LLC has owed Darshi Inc. 20000 dollars on August 1st, 2017.\"\n",
    "\n",
    "contract2 =  \"THIS MASTER SERVICE AGREEMENT ( Agreement ) is made and entered into EFFECTIVE_DATE \\\n",
    "( Effective Date ) between CONTRACTOR_NAME, CONTRACTOR_ADDR, ( Contractor ) and CONTRACTEE_NAME ( Operator ).  \\\n",
    "Contractor and Operator are also referred to as  party  and collectively as the  parties .  \\\n",
    "Subject to and in consideration of the mutual promises, conditions, and agreements contained herein, \\\n",
    "the receipt and sufficiency of which are hereby acknowledged.\"\n",
    "\n",
    "contract3 = \"THIS AGREEMENT made effective this EFFECTIVE_DATE by and between CONTRACTEE_NAME hereinafter called \\\n",
    "\\\"Company\\\" and CONTRACTOR_NAME, CONTRACTOR_ADDR, hereinafter called \\\"Contractor,\\\" whereby, in \\\n",
    "consideration of the covenants and provisions hereinafter provided, this Agreement shall control \\\n",
    "and govern all work performed or \\\n",
    "to be performed by Contractor for Company under verbal or written work orders, purchase orders, \\\n",
    "delivery tickets, voices or other verbal or written agreements between the Parties, relating to \\\n",
    "work to be done by Contractor for Company, and upersede any \\\n",
    "such previous agreements from date hereof until specifically cancelled in writing by either Party, \\\n",
    "anything to the co in any such agreement notwithstanding. This Agreement does not obligate Company \\\n",
    "to order work from Contractor, nor obligate Contractor to accept orders for work\"\n",
    "\n",
    "\n",
    "\n",
    "contract4 = \"This Contract is entered into as of the day of EFFECTIVE_DATE: (Effective Date) by and between \\\n",
    "The CONTRACTOR_NAME, a Virginia corporation (Consultant), and the CONTRACTEE_NAME, a municipal corporation and \\\n",
    "home rule unit of local government existing under the Constitution of the State of Illinois, acting through its \\\n",
    "Office of Emergency Management and Communications (City), at Chicago, Illinois.\"\n",
    "\n",
    "contract5= \"This Master Task Order Contract is entered into as of the EFFECTIVE_DATE \\\n",
    "(Effective Date) by and between CONTRACTOR_NAME, Inc., (Consultant), CONTRACTOR_ADDR, and the CONTRACTEE_NAME, CONTRACTEE_ADDR\\\n",
    " and home rule unit of local government existing under the Constitution of \\\n",
    "the State of Illinois, acting through its Chicago Department of Public Health (City), at Chicago, Illinois.\"\n",
    "\n",
    "\n",
    "    \n",
    "contract6 =  \"THIS MASTER SERVICE AGREEMENT ( Agreement ) is made and entered into EFFECTIVE_DATE \\\n",
    "( Effective Date ) between CONTRACTOR_NAME ( Contractor ), CONTRACTOR_ADDR, and \\\n",
    "CONTRACTEE_NAME ( Operator ), CONTRACTEE_ADDR  \\\n",
    "Contractor and Operator are also referred to as  party  and collectively as the  parties . \\\n",
    "Subject to and in consideration of the mutual promises, conditions, and agreements contained herein, \\\n",
    "the receipt and sufficiency of which are hereby acknowledged, the parties agree as follows: \\\n",
    "Kunling LLC has owed Darshi Inc. 20000 dollars on August 1st, 2017.\"\n",
    "\n",
    "\n",
    "contract7 = \"This Services Agreement (the Agreement) sets forth terms under that The CONTRACTOR_NAME (Company), CONTRACTOR_ADDR \\\n",
    "shall provide services to \\\n",
    "the CONTRACTEE_NAME (the Client). This Agreement is effective as \\\n",
    "of EFFECTIVE_DATE (Effective Date).\"\n",
    "\n",
    "\n",
    "contract8 = \"THIS AGREEMENT (Agreement), which comprises the full and complete agreement of \\\n",
    "the Parties hereto and supersedes all previous agreements between the Parties relating to the \\\n",
    "subject matter hereof, is entered into the EFFECTIVE_DATE, \\\n",
    "by and between CONTRACTEE_NAME, CONTRACTEE_ADDR, \\\n",
    "for itself and its wholly owned subsidiaries (Company), \\\n",
    "and CONTRACTOR_NAME, CONTRACTOR_ADDR, (Contractor). \\\n",
    "Company and Contractor are sometimes referred to hereinafter individually as a \\\n",
    "Party or collectively as the Parties.\"\n",
    "\n",
    "\n",
    "contract9 = \"This contract serves as the Master Services Agreement \\\n",
    "(Agreement) under which orders may be issued for professional services to \\\n",
    "be performed by the division of CONTRACTOR_NAME listed in the \\\n",
    "Addresses and Points of Contact section of this Agreement. This Agreement  \\\n",
    "is entered into by CONTRACTOR_NAME, CONTRACTOR_ADDR, \\\n",
    "and CONTRACTEE_NAME, CONTRACTEE_ADDR,  and is effective as of \\\n",
    "date signed. This agreement is effective from EFFECTIVE_DATE. \\\n",
    "For the purposes of this agreement, CONTRACTOR_NAME and the Customer may be referred to as such or \\\n",
    "as the Parties to this agreement.\"\n",
    "\n",
    "\n",
    "contract10 = \"This contract is entered into on this EFFECTIVE_DATE, by and between CONTRACTOR_NAME, a \\\n",
    "municipal corporation of the State of California and The CONTRACTEE_NAME, CONTRACTEE_ADDR. \\\n",
    "This contract consists of \\\n",
    "the following documents:\"\n",
    "\n",
    "contract_templates = [contract1, contract2, contract3, contract4, contract5, contract6, contract7, contract8, contract9, contract10]\n",
    "N_template = len(contract_templates)"
   ]
  },
  {
   "cell_type": "code",
   "execution_count": 111,
   "metadata": {
    "collapsed": true
   },
   "outputs": [],
   "source": [
    "from datetime import datetime\n",
    "import random\n",
    "\n",
    "def random_day():\n",
    "    year = random.choice(range(1950, 2018))\n",
    "    month = random.choice(range(1, 13))\n",
    "    if month == 2:\n",
    "        if year % 4 == 0:\n",
    "            day = random.choice(range(1, 30))\n",
    "        else:\n",
    "            day = random.choice(range(1, 29))\n",
    "    elif month in [1, 3, 5, 7, 8, 10, 12]:\n",
    "        day = random.choice(range(1, 32))\n",
    "    else:\n",
    "        day = random.choice(range(1, 31))\n",
    "    random_date = datetime(year, month, day)\n",
    "    return random_date\n",
    "\n",
    "def random_day_str():\n",
    "    random_date = random_day()\n",
    "    \n",
    "    format_choice = random.choice([\"%B %d, %Y\",\"%b %d, %Y\", \"%m %d, %Y\", \"%B %d, %Y\", \"%B %d, %y\", \"%m %d, %y\",\"%D\", \"%F\"])\n",
    "    random_date_str = random_date.strftime(format_choice)\n",
    "    return  random_date_str\n"
   ]
  },
  {
   "cell_type": "code",
   "execution_count": 112,
   "metadata": {
    "collapsed": true
   },
   "outputs": [],
   "source": [
    "def qa_gen(contractor_name, contractee_name, contractor_addr, contractee_addr, effective_date):\n",
    "    answers = [contractor_name, contractee_name, contractor_addr, contractee_addr, effective_date]\n",
    "    types = [\"contractor name\", \"contractee name\", \"contractor address\", \"contractee address\", \"effective date\"]\n",
    "    ques_ans_list = []\n",
    "    for i, ans in enumerate(answers):\n",
    "        idx_begin = ans[0]\n",
    "        idx_end = ans[1]\n",
    "        question = \"What is the \" + types[i] + \"?\"\n",
    "        qa = question + \"\\t\" + str(idx_begin) + \" \" + str(idx_end)\n",
    "        ques_ans_list.append(qa)\n",
    "    return ques_ans_list"
   ]
  },
  {
   "cell_type": "code",
   "execution_count": 122,
   "metadata": {},
   "outputs": [],
   "source": [
    "\n",
    "from nltk.tokenize import sent_tokenize\n",
    "import os\n",
    "import string\n",
    "\n",
    "if 0:\n",
    "    def find_entity_index(contract, entity):\n",
    "            b = contract.find(entity)\n",
    "            e = b + len(entity)\n",
    "            idx = (b, e)\n",
    "            if b == -1:\n",
    "                return(-1, -1)\n",
    "            return idx\n",
    "\n",
    "        \n",
    "def find_entity_index(sentence, entity):\n",
    "    sentence_words = nlp.tokenizer(unicode(sentence))\n",
    "    entity_words = nlp.tokenizer(unicode(entity))\n",
    "    q = 0\n",
    "    len_entity = len(entity_words)\n",
    "    res = (-1, -1)\n",
    "    while q < len(sentence_words) - len_entity:\n",
    "        #if entity_words == sentence_words[q:q+len_entity]:\n",
    "        if 0 :\n",
    "            print\n",
    "            print entity_words\n",
    "            print sentence_words[q:q+len_entity]\n",
    "            print check_euqal_tokens(entity_words, sentence_words[q:q+len_entity])\n",
    "            print\n",
    "        if check_euqal_tokens(entity_words, sentence_words[q:q+len_entity]):\n",
    "            res = (q, q+len_entity)\n",
    "            break\n",
    "        q += 1\n",
    "        \n",
    "    if 0:\n",
    "        print sentence_words\n",
    "        print entity_words\n",
    "        print res\n",
    "        print \n",
    "        \n",
    "        \n",
    "    return res\n",
    "    \n",
    "def check_euqal_tokens(t1, t2):\n",
    "    if len(t1) != len(t2):\n",
    "        return False\n",
    "    if not t1 and not t2:\n",
    "        return True\n",
    "    q = 0\n",
    "    while q < len(t1):\n",
    "        s1 = str(t1[q])\n",
    "        s2 = str(t2[q])\n",
    "        s1 = \"\".join(l for l in s1 if l not in string.punctuation)\n",
    "        s2 = \"\".join(l for l in s2 if l not in string.punctuation)\n",
    "        if s1 != s2:\n",
    "            return False\n",
    "        q += 1\n",
    "    return True\n",
    "    \n",
    "    \n",
    "    \n",
    "\n",
    "    \n",
    "    print sentence\n",
    "    print entity\n",
    "    print (start, end)\n",
    "    return (start , end)\n",
    "\n",
    "def generate_contract_qa(file_path, N_contracts):\n",
    "    # file_path = \"contracts_qa.txt\"\n",
    "    if os.path.isfile(file_path):\n",
    "        os.remove(file_path)\n",
    "    f = open(file_path, \"a\")\n",
    "\n",
    "    # N_contracts = 10\n",
    "    for i in range(N_contracts):\n",
    "        r_contractor = random.randint(0, N_company-1)\n",
    "        r_contractee = random.randint(0, N_company-1)\n",
    "        while r_contractor == r_contractee:\n",
    "            r_contractee = random.randint(0, N_company-1)\n",
    "            \n",
    "        contractor_name = company_names[r_contractor]\n",
    "        contractor_addr = \", \".join([company_streets[r_contractor], company_cities[r_contractor], \\\n",
    "                                   company_states[r_contractor], company_zips[r_contractor]])\n",
    "        contractee_name = company_names[r_contractee]\n",
    "        contractee_addr = \", \".join([company_streets[r_contractee], company_cities[r_contractee], \\\n",
    "                                   company_states[r_contractee], company_zips[r_contractee]])\n",
    "        effective_date = random_day_str()\n",
    "        r_template = random.randint(0, N_template-1)\n",
    "        contract = contract_templates[r_template]\n",
    "        \n",
    "        contract = contract.replace(\"CONTRACTOR_NAME\", contractor_name)\n",
    "              \n",
    "        contractor_name_idx = find_entity_index(contract, contractor_name)\n",
    "        #print contractor_name_idx\n",
    "        \n",
    "        contract = contract.replace(\"CONTRACTEE_NAME\", contractee_name)\n",
    "        contractee_name_idx = find_entity_index(contract, contractee_name)\n",
    "        #print contractee_name_idx\n",
    "        \n",
    "        \n",
    "        contract = contract.replace(\"CONTRACTOR_ADDR\", contractor_addr)\n",
    "        contractor_addr_idx = find_entity_index(contract,  contractor_addr)\n",
    "        #print contractor_addr_idx\n",
    "        \n",
    "        contract = contract.replace(\"CONTRACTEE_ADDR\", contractee_addr)\n",
    "        contractee_addr_idx = find_entity_index(contract,  contractee_addr)\n",
    "        #print contractee_addr_idx\n",
    "        \n",
    "        contract = contract.replace(\"EFFECTIVE_DATE\", effective_date)\n",
    "        effective_date_idx = find_entity_index(contract,   effective_date)\n",
    "        #print effective_date_idx\n",
    "        \n",
    "        contract_sents = sent_tokenize(contract)\n",
    "  \n",
    "\n",
    "        ques_ans_list = qa_gen(contractor_name_idx, contractee_name_idx, contractor_addr_idx, contractee_addr_idx, effective_date_idx)\n",
    "\n",
    "        for i, sent in enumerate(contract_sents):\n",
    "            content = str(i+1) + \" \" + sent + \"\\n\"\n",
    "            f.write(content)\n",
    "        for k, sent in enumerate(ques_ans_list):\n",
    "            content = str(i+k+2) + \" \" + sent  + \"\\n\"\n",
    "            f.write(content)\n",
    "\n",
    "\n",
    "    f.close()\n",
    "\n",
    "    \n",
    "    \n",
    "generate_contract_qa(\"data/contract_data/contracts_train.txt\", 1000)\n",
    "generate_contract_qa(\"data/contract_data/contracts_test.txt\", 1000)"
   ]
  },
  {
   "cell_type": "code",
   "execution_count": null,
   "metadata": {
    "collapsed": true
   },
   "outputs": [],
   "source": []
  },
  {
   "cell_type": "code",
   "execution_count": null,
   "metadata": {
    "collapsed": true
   },
   "outputs": [],
   "source": []
  },
  {
   "cell_type": "code",
   "execution_count": null,
   "metadata": {
    "collapsed": true
   },
   "outputs": [],
   "source": []
  },
  {
   "cell_type": "code",
   "execution_count": 40,
   "metadata": {
    "collapsed": true
   },
   "outputs": [],
   "source": [
    "a = [1, 2]\n",
    "b = [1, 'a']"
   ]
  },
  {
   "cell_type": "code",
   "execution_count": 41,
   "metadata": {},
   "outputs": [
    {
     "name": "stdout",
     "output_type": "stream",
     "text": [
      "False\n"
     ]
    }
   ],
   "source": [
    "print a == b"
   ]
  },
  {
   "cell_type": "code",
   "execution_count": 50,
   "metadata": {
    "collapsed": true
   },
   "outputs": [],
   "source": [
    "EXAMPLE_TEXT = \"Hello Mr. Smith, how are you doing today? The weather is great, and Python is awesome. The sky is pinkish-blue. You shouldn't eat cardboard.\""
   ]
  },
  {
   "cell_type": "code",
   "execution_count": 52,
   "metadata": {},
   "outputs": [
    {
     "name": "stdout",
     "output_type": "stream",
     "text": [
      "['Hello', 'Mr.', 'Smith', ',', 'how', 'are', 'you', 'doing', 'today', '?', 'The', 'weather', 'is', 'great', ',', 'and', 'Python', 'is', 'awesome.', 'The', 'sky', 'is', 'pinkish-blue.', 'You', 'should', \"n't\", 'eat', 'cardboard', '.']\n"
     ]
    }
   ],
   "source": [
    "from nltk.tokenize import sent_tokenize, word_tokenize\n",
    "print(word_tokenize(EXAMPLE_TEXT))"
   ]
  },
  {
   "cell_type": "code",
   "execution_count": 61,
   "metadata": {},
   "outputs": [
    {
     "name": "stdout",
     "output_type": "stream",
     "text": [
      "Hello\n"
     ]
    }
   ],
   "source": []
  },
  {
   "cell_type": "code",
   "execution_count": 62,
   "metadata": {},
   "outputs": [
    {
     "name": "stdout",
     "output_type": "stream",
     "text": [
      "Hello\n",
      "Mr.\n",
      "Smith\n",
      ",\n",
      "how\n",
      "are\n",
      "you\n",
      "doing\n",
      "today\n",
      "?\n",
      "The\n",
      "weather\n",
      "is\n",
      "great\n",
      ",\n",
      "and\n",
      "Python\n",
      "is\n",
      "awesome\n",
      ".\n",
      "The\n",
      "sky\n",
      "is\n",
      "pinkish\n",
      "-\n",
      "blue\n",
      ".\n",
      "You\n",
      "should\n",
      "n't\n",
      "eat\n",
      "cardboard\n",
      ".\n"
     ]
    }
   ],
   "source": [
    "for d in doc:\n",
    "    print d"
   ]
  },
  {
   "cell_type": "code",
   "execution_count": 67,
   "metadata": {},
   "outputs": [
    {
     "name": "stdout",
     "output_type": "stream",
     "text": [
      "33\n"
     ]
    }
   ],
   "source": [
    "print len(doc)"
   ]
  },
  {
   "cell_type": "code",
   "execution_count": 127,
   "metadata": {},
   "outputs": [
    {
     "name": "stdout",
     "output_type": "stream",
     "text": [
      "True\n",
      "i\n"
     ]
    }
   ],
   "source": [
    "doc2 = nlp.tokenizer(unicode(\"I love you\"))\n",
    "print str(doc2[0]) == str(doc2[0])\n",
    "print str(doc2[0]).lower()"
   ]
  },
  {
   "cell_type": "code",
   "execution_count": null,
   "metadata": {
    "collapsed": true
   },
   "outputs": [],
   "source": []
  }
 ],
 "metadata": {
  "kernelspec": {
   "display_name": "Python 2",
   "language": "python",
   "name": "python2"
  },
  "language_info": {
   "codemirror_mode": {
    "name": "ipython",
    "version": 2
   },
   "file_extension": ".py",
   "mimetype": "text/x-python",
   "name": "python",
   "nbconvert_exporter": "python",
   "pygments_lexer": "ipython2",
   "version": "2.7.13"
  }
 },
 "nbformat": 4,
 "nbformat_minor": 2
}
